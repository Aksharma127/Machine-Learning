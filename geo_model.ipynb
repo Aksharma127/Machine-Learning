{
  "nbformat": 4,
  "nbformat_minor": 0,
  "metadata": {
    "colab": {
      "provenance": [],
      "authorship_tag": "ABX9TyPL2qGmH9ZB2hoBEWZfzsiW",
      "include_colab_link": true
    },
    "kernelspec": {
      "name": "python3",
      "display_name": "Python 3"
    },
    "language_info": {
      "name": "python"
    }
  },
  "cells": [
    {
      "cell_type": "markdown",
      "metadata": {
        "id": "view-in-github",
        "colab_type": "text"
      },
      "source": [
        "<a href=\"https://colab.research.google.com/github/Aksharma127/Machine-Learning/blob/main/geo_model.ipynb\" target=\"_parent\"><img src=\"https://colab.research.google.com/assets/colab-badge.svg\" alt=\"Open In Colab\"/></a>"
      ]
    },
    {
      "source": [
        "# Required Libraries\n",
        "import pandas as pd\n",
        "import numpy as np\n",
        "from sklearn.model_selection import train_test_split\n",
        "from sklearn.preprocessing import StandardScaler, OneHotEncoder, LabelEncoder\n",
        "from sklearn.compose import ColumnTransformer\n",
        "from tensorflow.keras.models import Sequential\n",
        "from tensorflow.keras.layers import Dense, Dropout\n",
        "from tensorflow.keras.callbacks import EarlyStopping\n",
        "import joblib\n",
        "import os # Import the os module if it wasn't already imported\n",
        "\n",
        "# Create the data directory if it doesn't exist\n",
        "os.makedirs('data', exist_ok=True)\n",
        "\n",
        "# Load CSV\n",
        "# Update the path below if your file is located elsewhere\n",
        "file_path = \"data/sikkim_simulated_business_data.csv\"\n",
        "\n",
        "# Check if the file exists before attempting to read it\n",
        "if not os.path.exists(file_path):\n",
        "    print(f\"Error: The file '{file_path}' was not found.\")\n",
        "    print(\"Please make sure the CSV file 'sikkim_simulated_business_data.csv' is in the 'data' directory.\")\n",
        "    # You might want to exit or handle this error appropriately\n",
        "    # For example, raise an exception or use a placeholder dataframe\n",
        "    raise FileNotFoundError(f\"Required data file not found at {file_path}\")\n",
        "\n",
        "df = pd.read_csv(file_path)\n",
        "# Targets\n",
        "target_score = \"business_attractiveness_score\"\n",
        "target_profit = \"estimated_yearly_profit_usd\"\n",
        "target_risk = \"risk_level\"\n",
        "target_recommendation = \"recommended_business_type\"\n",
        "\n",
        "# Features\n",
        "num = [\n",
        "    'population_density_sqkm', 'avg_household_income_usd', 'median_age',\n",
        "    'literacy_rate_percent', 'crime_rate_index', 'infrastructure_quality_score',\n",
        "    'accessibility_score', 'unemployment_rate_percent', 'local_gdp_per_capita_usd'\n",
        "]\n",
        "cat = ['area_type']\n",
        "features = num + cat\n",
        "\n",
        "X = df[features]\n",
        "y_score = df[target_score]\n",
        "y_profit = df[target_profit]\n",
        "\n",
        "risk_le = LabelEncoder()\n",
        "rec_le = LabelEncoder()\n",
        "y_risk = risk_le.fit_transform(df[target_risk])\n",
        "y_rec = rec_le.fit_transform(df[target_recommendation])\n",
        "\n",
        "# Preprocessing\n",
        "pre = ColumnTransformer([\n",
        "    (\"num\", StandardScaler(), num),\n",
        "    (\"cat\", OneHotEncoder(), cat)\n",
        "])\n",
        "X_proc = pre.fit_transform(X)\n",
        "\n",
        "# Save encoders\n",
        "# Ensure the directory for saving models exists\n",
        "os.makedirs('geo_model', exist_ok=True)\n",
        "joblib.dump(pre, \"geo_model/preprocessor.pkl\")\n",
        "joblib.dump(risk_le, \"geo_model/risk_encoder.pkl\")\n",
        "joblib.dump(rec_le, \"geo_model/rec_encoder.pkl\")\n",
        "\n",
        "# Splits\n",
        "X_train, X_test, y_score_train, y_score_test = train_test_split(X_proc, y_score, test_size=0.2, random_state=42)\n",
        "_, _, y_profit_train, y_profit_test = train_test_split(X_proc, y_profit, test_size=0.2, random_state=42)\n",
        "_, _, y_risk_train, y_risk_test = train_test_split(X_proc, y_risk, test_size=0.2, random_state=42)\n",
        "_, _, y_rec_train, y_rec_test = train_test_split(X_proc, y_rec, test_size=0.2, random_state=42)\n",
        "\n",
        "# Build model factory\n",
        "def build_model(output_units, output_activation, loss, task='regression'):\n",
        "    model = Sequential([\n",
        "        Dense(128, activation='relu', input_shape=(X_proc.shape[1],)),\n",
        "        Dropout(0.3),\n",
        "        Dense(64, activation='relu'),\n",
        "        Dense(output_units, activation=output_activation)\n",
        "    ])\n",
        "    # Use appropriate metrics based on the task\n",
        "    metrics = ['accuracy'] if task == 'classification' else ['mse']\n",
        "    model.compile(optimizer='adam', loss=loss, metrics=metrics)\n",
        "    return model\n",
        "\n",
        "# Models\n",
        "score_model = build_model(1, 'linear', 'mse', 'regression')\n",
        "profit_model = build_model(1, 'linear', 'mse', 'regression')\n",
        "# For classification tasks, the number of output units should be the number of unique classes\n",
        "risk_model = build_model(len(np.unique(y_risk)), 'softmax', 'sparse_categorical_crossentropy', 'classification')\n",
        "rec_model = build_model(len(np.unique(y_rec)), 'softmax', 'sparse_categorical_crossentropy', 'classification')\n",
        "\n",
        "\n",
        "# Early stopping\n",
        "es = EarlyStopping(patience=10, restore_best_weights=True)\n",
        "\n",
        "# Train\n",
        "print(\"Training score model...\")\n",
        "score_model.fit(X_train, y_score_train, epochs=100, validation_split=0.2, callbacks=[es], verbose=0) # Add verbose=0 to reduce training output\n",
        "print(\"Training profit model...\")\n",
        "profit_model.fit(X_train, y_profit_train, epochs=100, validation_split=0.2, callbacks=[es], verbose=0)\n",
        "print(\"Training risk model...\")\n",
        "risk_model.fit(X_train, y_risk_train, epochs=100, validation_split=0.2, callbacks=[es], verbose=0)\n",
        "print(\"Training recommendation model...\")\n",
        "rec_model.fit(X_train, y_rec_train, epochs=100, validation_split=0.2, callbacks=[es], verbose=0)\n",
        "\n",
        "\n",
        "# Save models\n",
        "# Ensure the directory for saving models exists\n",
        "os.makedirs('geo_model', exist_ok=True)\n",
        "score_model.save(\"geo_model/score_model.h5\")\n",
        "profit_model.save(\"geo_model/profit_model.h5\")\n",
        "risk_model.save(\"geo_model/risk_model.h5\")\n",
        "rec_model.save(\"geo_model/rec_model.h5\")\n",
        "\n",
        "print(\" All deep learning models trained and saved!\")"
      ],
      "cell_type": "code",
      "metadata": {
        "colab": {
          "base_uri": "https://localhost:8080/"
        },
        "id": "WErM1jPhAK2d",
        "outputId": "61710983-baf7-4c5f-f23e-cd082e4b9d25"
      },
      "execution_count": 105,
      "outputs": [
        {
          "output_type": "stream",
          "name": "stderr",
          "text": [
            "/usr/local/lib/python3.11/dist-packages/keras/src/layers/core/dense.py:87: UserWarning: Do not pass an `input_shape`/`input_dim` argument to a layer. When using Sequential models, prefer using an `Input(shape)` object as the first layer in the model instead.\n",
            "  super().__init__(activity_regularizer=activity_regularizer, **kwargs)\n"
          ]
        },
        {
          "output_type": "stream",
          "name": "stdout",
          "text": [
            "Training score model...\n",
            "Training profit model...\n",
            "Training risk model...\n",
            "Training recommendation model...\n"
          ]
        },
        {
          "output_type": "stream",
          "name": "stderr",
          "text": [
            "WARNING:absl:You are saving your model as an HDF5 file via `model.save()` or `keras.saving.save_model(model)`. This file format is considered legacy. We recommend using instead the native Keras format, e.g. `model.save('my_model.keras')` or `keras.saving.save_model(model, 'my_model.keras')`. \n",
            "WARNING:absl:You are saving your model as an HDF5 file via `model.save()` or `keras.saving.save_model(model)`. This file format is considered legacy. We recommend using instead the native Keras format, e.g. `model.save('my_model.keras')` or `keras.saving.save_model(model, 'my_model.keras')`. \n",
            "WARNING:absl:You are saving your model as an HDF5 file via `model.save()` or `keras.saving.save_model(model)`. This file format is considered legacy. We recommend using instead the native Keras format, e.g. `model.save('my_model.keras')` or `keras.saving.save_model(model, 'my_model.keras')`. \n",
            "WARNING:absl:You are saving your model as an HDF5 file via `model.save()` or `keras.saving.save_model(model)`. This file format is considered legacy. We recommend using instead the native Keras format, e.g. `model.save('my_model.keras')` or `keras.saving.save_model(model, 'my_model.keras')`. \n"
          ]
        },
        {
          "output_type": "stream",
          "name": "stdout",
          "text": [
            " All deep learning models trained and saved!\n"
          ]
        }
      ]
    },
    {
      "cell_type": "code",
      "source": [
        "!pip install streamlit ngrok\n"
      ],
      "metadata": {
        "colab": {
          "base_uri": "https://localhost:8080/"
        },
        "id": "ntyMLYBUrt8G",
        "outputId": "d6d0a1d3-44fb-44b6-a9e9-0ece2d6e09dc"
      },
      "execution_count": 106,
      "outputs": [
        {
          "output_type": "stream",
          "name": "stdout",
          "text": [
            "Requirement already satisfied: streamlit in /usr/local/lib/python3.11/dist-packages (1.45.1)\n",
            "Requirement already satisfied: ngrok in /usr/local/lib/python3.11/dist-packages (1.4.0)\n",
            "Requirement already satisfied: altair<6,>=4.0 in /usr/local/lib/python3.11/dist-packages (from streamlit) (5.5.0)\n",
            "Requirement already satisfied: blinker<2,>=1.5.0 in /usr/local/lib/python3.11/dist-packages (from streamlit) (1.9.0)\n",
            "Requirement already satisfied: cachetools<6,>=4.0 in /usr/local/lib/python3.11/dist-packages (from streamlit) (5.5.2)\n",
            "Requirement already satisfied: click<9,>=7.0 in /usr/local/lib/python3.11/dist-packages (from streamlit) (8.2.1)\n",
            "Requirement already satisfied: numpy<3,>=1.23 in /usr/local/lib/python3.11/dist-packages (from streamlit) (2.0.2)\n",
            "Requirement already satisfied: packaging<25,>=20 in /usr/local/lib/python3.11/dist-packages (from streamlit) (24.2)\n",
            "Requirement already satisfied: pandas<3,>=1.4.0 in /usr/local/lib/python3.11/dist-packages (from streamlit) (2.2.2)\n",
            "Requirement already satisfied: pillow<12,>=7.1.0 in /usr/local/lib/python3.11/dist-packages (from streamlit) (11.2.1)\n",
            "Requirement already satisfied: protobuf<7,>=3.20 in /usr/local/lib/python3.11/dist-packages (from streamlit) (5.29.5)\n",
            "Requirement already satisfied: pyarrow>=7.0 in /usr/local/lib/python3.11/dist-packages (from streamlit) (18.1.0)\n",
            "Requirement already satisfied: requests<3,>=2.27 in /usr/local/lib/python3.11/dist-packages (from streamlit) (2.32.3)\n",
            "Requirement already satisfied: tenacity<10,>=8.1.0 in /usr/local/lib/python3.11/dist-packages (from streamlit) (9.1.2)\n",
            "Requirement already satisfied: toml<2,>=0.10.1 in /usr/local/lib/python3.11/dist-packages (from streamlit) (0.10.2)\n",
            "Requirement already satisfied: typing-extensions<5,>=4.4.0 in /usr/local/lib/python3.11/dist-packages (from streamlit) (4.14.0)\n",
            "Requirement already satisfied: watchdog<7,>=2.1.5 in /usr/local/lib/python3.11/dist-packages (from streamlit) (6.0.0)\n",
            "Requirement already satisfied: gitpython!=3.1.19,<4,>=3.0.7 in /usr/local/lib/python3.11/dist-packages (from streamlit) (3.1.44)\n",
            "Requirement already satisfied: pydeck<1,>=0.8.0b4 in /usr/local/lib/python3.11/dist-packages (from streamlit) (0.9.1)\n",
            "Requirement already satisfied: tornado<7,>=6.0.3 in /usr/local/lib/python3.11/dist-packages (from streamlit) (6.4.2)\n",
            "Requirement already satisfied: jinja2 in /usr/local/lib/python3.11/dist-packages (from altair<6,>=4.0->streamlit) (3.1.6)\n",
            "Requirement already satisfied: jsonschema>=3.0 in /usr/local/lib/python3.11/dist-packages (from altair<6,>=4.0->streamlit) (4.24.0)\n",
            "Requirement already satisfied: narwhals>=1.14.2 in /usr/local/lib/python3.11/dist-packages (from altair<6,>=4.0->streamlit) (1.41.0)\n",
            "Requirement already satisfied: gitdb<5,>=4.0.1 in /usr/local/lib/python3.11/dist-packages (from gitpython!=3.1.19,<4,>=3.0.7->streamlit) (4.0.12)\n",
            "Requirement already satisfied: python-dateutil>=2.8.2 in /usr/local/lib/python3.11/dist-packages (from pandas<3,>=1.4.0->streamlit) (2.9.0.post0)\n",
            "Requirement already satisfied: pytz>=2020.1 in /usr/local/lib/python3.11/dist-packages (from pandas<3,>=1.4.0->streamlit) (2025.2)\n",
            "Requirement already satisfied: tzdata>=2022.7 in /usr/local/lib/python3.11/dist-packages (from pandas<3,>=1.4.0->streamlit) (2025.2)\n",
            "Requirement already satisfied: charset-normalizer<4,>=2 in /usr/local/lib/python3.11/dist-packages (from requests<3,>=2.27->streamlit) (3.4.2)\n",
            "Requirement already satisfied: idna<4,>=2.5 in /usr/local/lib/python3.11/dist-packages (from requests<3,>=2.27->streamlit) (3.10)\n",
            "Requirement already satisfied: urllib3<3,>=1.21.1 in /usr/local/lib/python3.11/dist-packages (from requests<3,>=2.27->streamlit) (2.4.0)\n",
            "Requirement already satisfied: certifi>=2017.4.17 in /usr/local/lib/python3.11/dist-packages (from requests<3,>=2.27->streamlit) (2025.4.26)\n",
            "Requirement already satisfied: smmap<6,>=3.0.1 in /usr/local/lib/python3.11/dist-packages (from gitdb<5,>=4.0.1->gitpython!=3.1.19,<4,>=3.0.7->streamlit) (5.0.2)\n",
            "Requirement already satisfied: MarkupSafe>=2.0 in /usr/local/lib/python3.11/dist-packages (from jinja2->altair<6,>=4.0->streamlit) (3.0.2)\n",
            "Requirement already satisfied: attrs>=22.2.0 in /usr/local/lib/python3.11/dist-packages (from jsonschema>=3.0->altair<6,>=4.0->streamlit) (25.3.0)\n",
            "Requirement already satisfied: jsonschema-specifications>=2023.03.6 in /usr/local/lib/python3.11/dist-packages (from jsonschema>=3.0->altair<6,>=4.0->streamlit) (2025.4.1)\n",
            "Requirement already satisfied: referencing>=0.28.4 in /usr/local/lib/python3.11/dist-packages (from jsonschema>=3.0->altair<6,>=4.0->streamlit) (0.36.2)\n",
            "Requirement already satisfied: rpds-py>=0.7.1 in /usr/local/lib/python3.11/dist-packages (from jsonschema>=3.0->altair<6,>=4.0->streamlit) (0.25.1)\n",
            "Requirement already satisfied: six>=1.5 in /usr/local/lib/python3.11/dist-packages (from python-dateutil>=2.8.2->pandas<3,>=1.4.0->streamlit) (1.17.0)\n"
          ]
        }
      ]
    },
    {
      "cell_type": "code",
      "source": [
        "import folium\n",
        "\n",
        "m = folium.Map(location=[27.5, 88.5], zoom_start=8)  # Somewhere in Sikkim\n",
        "folium.Marker([27.5, 88.5], tooltip=\"Your Prediction Point\").add_to(m)\n",
        "m\n"
      ],
      "metadata": {
        "colab": {
          "base_uri": "https://localhost:8080/",
          "height": 963
        },
        "id": "7oN8-7b7sZCx",
        "outputId": "61805849-84c9-4fd8-983b-6fad3cecc898"
      },
      "execution_count": 107,
      "outputs": [
        {
          "output_type": "execute_result",
          "data": {
            "text/plain": [
              "<folium.folium.Map at 0x7fe0f2eb42d0>"
            ],
            "text/html": [
              "<div style=\"width:100%;\"><div style=\"position:relative;width:100%;height:0;padding-bottom:60%;\"><span style=\"color:#565656\">Make this Notebook Trusted to load map: File -> Trust Notebook</span><iframe srcdoc=\"&lt;!DOCTYPE html&gt;\n",
              "&lt;html&gt;\n",
              "&lt;head&gt;\n",
              "    \n",
              "    &lt;meta http-equiv=&quot;content-type&quot; content=&quot;text/html; charset=UTF-8&quot; /&gt;\n",
              "    &lt;script src=&quot;https://cdn.jsdelivr.net/npm/leaflet@1.9.3/dist/leaflet.js&quot;&gt;&lt;/script&gt;\n",
              "    &lt;script src=&quot;https://code.jquery.com/jquery-3.7.1.min.js&quot;&gt;&lt;/script&gt;\n",
              "    &lt;script src=&quot;https://cdn.jsdelivr.net/npm/bootstrap@5.2.2/dist/js/bootstrap.bundle.min.js&quot;&gt;&lt;/script&gt;\n",
              "    &lt;script src=&quot;https://cdnjs.cloudflare.com/ajax/libs/Leaflet.awesome-markers/2.0.2/leaflet.awesome-markers.js&quot;&gt;&lt;/script&gt;\n",
              "    &lt;link rel=&quot;stylesheet&quot; href=&quot;https://cdn.jsdelivr.net/npm/leaflet@1.9.3/dist/leaflet.css&quot;/&gt;\n",
              "    &lt;link rel=&quot;stylesheet&quot; href=&quot;https://cdn.jsdelivr.net/npm/bootstrap@5.2.2/dist/css/bootstrap.min.css&quot;/&gt;\n",
              "    &lt;link rel=&quot;stylesheet&quot; href=&quot;https://netdna.bootstrapcdn.com/bootstrap/3.0.0/css/bootstrap-glyphicons.css&quot;/&gt;\n",
              "    &lt;link rel=&quot;stylesheet&quot; href=&quot;https://cdn.jsdelivr.net/npm/@fortawesome/fontawesome-free@6.2.0/css/all.min.css&quot;/&gt;\n",
              "    &lt;link rel=&quot;stylesheet&quot; href=&quot;https://cdnjs.cloudflare.com/ajax/libs/Leaflet.awesome-markers/2.0.2/leaflet.awesome-markers.css&quot;/&gt;\n",
              "    &lt;link rel=&quot;stylesheet&quot; href=&quot;https://cdn.jsdelivr.net/gh/python-visualization/folium/folium/templates/leaflet.awesome.rotate.min.css&quot;/&gt;\n",
              "    \n",
              "            &lt;meta name=&quot;viewport&quot; content=&quot;width=device-width,\n",
              "                initial-scale=1.0, maximum-scale=1.0, user-scalable=no&quot; /&gt;\n",
              "            &lt;style&gt;\n",
              "                #map_6b44508dcfbcb18d0d88bd12a98335f8 {\n",
              "                    position: relative;\n",
              "                    width: 100.0%;\n",
              "                    height: 100.0%;\n",
              "                    left: 0.0%;\n",
              "                    top: 0.0%;\n",
              "                }\n",
              "                .leaflet-container { font-size: 1rem; }\n",
              "            &lt;/style&gt;\n",
              "\n",
              "            &lt;style&gt;html, body {\n",
              "                width: 100%;\n",
              "                height: 100%;\n",
              "                margin: 0;\n",
              "                padding: 0;\n",
              "            }\n",
              "            &lt;/style&gt;\n",
              "\n",
              "            &lt;style&gt;#map {\n",
              "                position:absolute;\n",
              "                top:0;\n",
              "                bottom:0;\n",
              "                right:0;\n",
              "                left:0;\n",
              "                }\n",
              "            &lt;/style&gt;\n",
              "\n",
              "            &lt;script&gt;\n",
              "                L_NO_TOUCH = false;\n",
              "                L_DISABLE_3D = false;\n",
              "            &lt;/script&gt;\n",
              "\n",
              "        \n",
              "&lt;/head&gt;\n",
              "&lt;body&gt;\n",
              "    \n",
              "    \n",
              "            &lt;div class=&quot;folium-map&quot; id=&quot;map_6b44508dcfbcb18d0d88bd12a98335f8&quot; &gt;&lt;/div&gt;\n",
              "        \n",
              "&lt;/body&gt;\n",
              "&lt;script&gt;\n",
              "    \n",
              "    \n",
              "            var map_6b44508dcfbcb18d0d88bd12a98335f8 = L.map(\n",
              "                &quot;map_6b44508dcfbcb18d0d88bd12a98335f8&quot;,\n",
              "                {\n",
              "                    center: [27.5, 88.5],\n",
              "                    crs: L.CRS.EPSG3857,\n",
              "                    ...{\n",
              "  &quot;zoom&quot;: 8,\n",
              "  &quot;zoomControl&quot;: true,\n",
              "  &quot;preferCanvas&quot;: false,\n",
              "}\n",
              "\n",
              "                }\n",
              "            );\n",
              "\n",
              "            \n",
              "\n",
              "        \n",
              "    \n",
              "            var tile_layer_5f37ba84f0bb3e08705f89e2f61da4c9 = L.tileLayer(\n",
              "                &quot;https://tile.openstreetmap.org/{z}/{x}/{y}.png&quot;,\n",
              "                {\n",
              "  &quot;minZoom&quot;: 0,\n",
              "  &quot;maxZoom&quot;: 19,\n",
              "  &quot;maxNativeZoom&quot;: 19,\n",
              "  &quot;noWrap&quot;: false,\n",
              "  &quot;attribution&quot;: &quot;\\u0026copy; \\u003ca href=\\&quot;https://www.openstreetmap.org/copyright\\&quot;\\u003eOpenStreetMap\\u003c/a\\u003e contributors&quot;,\n",
              "  &quot;subdomains&quot;: &quot;abc&quot;,\n",
              "  &quot;detectRetina&quot;: false,\n",
              "  &quot;tms&quot;: false,\n",
              "  &quot;opacity&quot;: 1,\n",
              "}\n",
              "\n",
              "            );\n",
              "        \n",
              "    \n",
              "            tile_layer_5f37ba84f0bb3e08705f89e2f61da4c9.addTo(map_6b44508dcfbcb18d0d88bd12a98335f8);\n",
              "        \n",
              "    \n",
              "            var marker_13bb1d839c899bda7a6baed06d9ea359 = L.marker(\n",
              "                [27.5, 88.5],\n",
              "                {\n",
              "}\n",
              "            ).addTo(map_6b44508dcfbcb18d0d88bd12a98335f8);\n",
              "        \n",
              "    \n",
              "            marker_13bb1d839c899bda7a6baed06d9ea359.bindTooltip(\n",
              "                `&lt;div&gt;\n",
              "                     Your Prediction Point\n",
              "                 &lt;/div&gt;`,\n",
              "                {\n",
              "  &quot;sticky&quot;: true,\n",
              "}\n",
              "            );\n",
              "        \n",
              "&lt;/script&gt;\n",
              "&lt;/html&gt;\" style=\"position:absolute;width:100%;height:100%;left:0;top:0;border:none !important;\" allowfullscreen webkitallowfullscreen mozallowfullscreen></iframe></div></div>"
            ]
          },
          "metadata": {},
          "execution_count": 107
        }
      ]
    },
    {
      "cell_type": "code",
      "source": [
        "!pip install pyngrok\n"
      ],
      "metadata": {
        "colab": {
          "base_uri": "https://localhost:8080/"
        },
        "id": "-KMT7xh9slrR",
        "outputId": "88300320-2ffe-427b-8d80-f8e2b0de0e46"
      },
      "execution_count": 108,
      "outputs": [
        {
          "output_type": "stream",
          "name": "stdout",
          "text": [
            "Requirement already satisfied: pyngrok in /usr/local/lib/python3.11/dist-packages (7.2.11)\n",
            "Requirement already satisfied: PyYAML>=5.1 in /usr/local/lib/python3.11/dist-packages (from pyngrok) (6.0.2)\n"
          ]
        }
      ]
    },
    {
      "cell_type": "code",
      "source": [
        "!python3 app.py &"
      ],
      "metadata": {
        "colab": {
          "base_uri": "https://localhost:8080/"
        },
        "id": "qc1UpDGQ3CEV",
        "outputId": "56533028-cc98-4ba9-ce23-2dbc83261b06"
      },
      "execution_count": 109,
      "outputs": [
        {
          "output_type": "stream",
          "name": "stdout",
          "text": [
            " * Serving Flask app 'app'\n",
            " * Debug mode: off\n",
            "Address already in use\n",
            "Port 5000 is in use by another program. Either identify and stop that program, or start the server with a different port.\n"
          ]
        }
      ]
    },
    {
      "cell_type": "code",
      "source": [
        "from pyngrok import conf, ngrok\n",
        "\n",
        "conf.get_default().auth_token = \"YOUR_AUTHTOKEN\"\n"
      ],
      "metadata": {
        "id": "eoT6cVvoso41"
      },
      "execution_count": 128,
      "outputs": []
    },
    {
      "cell_type": "code",
      "source": [
        "!ngrok config add-authtoken YOUR_AUTHTOKEN\n"
      ],
      "metadata": {
        "colab": {
          "base_uri": "https://localhost:8080/"
        },
        "id": "yGvoJOEl2FTD",
        "outputId": "2a873ba0-1a8e-4c43-ffa4-02e10368159f"
      },
      "execution_count": 123,
      "outputs": [
        {
          "output_type": "stream",
          "name": "stdout",
          "text": [
            "Authtoken saved to configuration file: /root/.config/ngrok/ngrok.yml\n"
          ]
        }
      ]
    },
    {
      "cell_type": "code",
      "source": [
        "%%writefile app.py\n",
        "from flask import Flask, request, jsonify\n",
        "app = Flask(__name__)\n",
        "\n",
        "@app.route('/')\n",
        "def home():\n",
        "    return \"✅ Geo Business Advisor Flask App is running!\"\n",
        "\n",
        "@app.route('/predict', methods=['POST'])\n",
        "def predict():\n",
        "    data = request.json\n",
        "    # Dummy output — replace with real model inference\n",
        "    return jsonify({\n",
        "        \"business_opportunity_score\": 85,\n",
        "        \"estimated_profit_usd\": 12000,\n",
        "        \"risk_level\": \"Medium\",\n",
        "        \"recommended_business_type\": \"Cafe\"\n",
        "    })\n",
        "\n",
        "if __name__ == '__main__':\n",
        "    app.run(port=5000)\n"
      ],
      "metadata": {
        "colab": {
          "base_uri": "https://localhost:8080/"
        },
        "id": "7Z5IGyhf7EO_",
        "outputId": "7a8ab7d8-d0e1-408b-b37d-2cf5c17447b1"
      },
      "execution_count": 134,
      "outputs": [
        {
          "output_type": "stream",
          "name": "stdout",
          "text": [
            "Overwriting app.py\n"
          ]
        }
      ]
    },
    {
      "source": [
        "score_model.save(\"geo_model/score_model.h5\")\n",
        "profit_model.save(\"geo_model/profit_model.h5\")\n",
        "risk_model.save(\"geo_model/risk_model.h5\")\n",
        "rec_model.save(\"geo_model/rec_model.h5\")\n"
      ],
      "cell_type": "code",
      "metadata": {
        "colab": {
          "base_uri": "https://localhost:8080/"
        },
        "id": "bSad_Y_C3H2d",
        "outputId": "0460b29d-b904-4130-f4a5-3799284fab51"
      },
      "execution_count": 135,
      "outputs": [
        {
          "output_type": "stream",
          "name": "stderr",
          "text": [
            "WARNING:absl:You are saving your model as an HDF5 file via `model.save()` or `keras.saving.save_model(model)`. This file format is considered legacy. We recommend using instead the native Keras format, e.g. `model.save('my_model.keras')` or `keras.saving.save_model(model, 'my_model.keras')`. \n",
            "WARNING:absl:You are saving your model as an HDF5 file via `model.save()` or `keras.saving.save_model(model)`. This file format is considered legacy. We recommend using instead the native Keras format, e.g. `model.save('my_model.keras')` or `keras.saving.save_model(model, 'my_model.keras')`. \n",
            "WARNING:absl:You are saving your model as an HDF5 file via `model.save()` or `keras.saving.save_model(model)`. This file format is considered legacy. We recommend using instead the native Keras format, e.g. `model.save('my_model.keras')` or `keras.saving.save_model(model, 'my_model.keras')`. \n",
            "WARNING:absl:You are saving your model as an HDF5 file via `model.save()` or `keras.saving.save_model(model)`. This file format is considered legacy. We recommend using instead the native Keras format, e.g. `model.save('my_model.keras')` or `keras.saving.save_model(model, 'my_model.keras')`. \n"
          ]
        }
      ]
    },
    {
      "cell_type": "code",
      "source": [
        "from pyngrok import ngrok\n",
        "public_url = ngrok.connect(5000)\n",
        "print(f\"🌐 Public URL: {public_url}\")\n",
        "\n",
        "!python3 app.py &\n"
      ],
      "metadata": {
        "colab": {
          "base_uri": "https://localhost:8080/"
        },
        "id": "pdtQBMZU4vD0",
        "outputId": "8564a5aa-6cc8-4046-dcf1-d404b412baab"
      },
      "execution_count": 136,
      "outputs": [
        {
          "output_type": "stream",
          "name": "stdout",
          "text": [
            "🌐 Public URL: NgrokTunnel: \"https://7245-34-60-226-195.ngrok-free.app\" -> \"http://localhost:5000\"\n",
            " * Serving Flask app 'app'\n",
            " * Debug mode: off\n",
            "Address already in use\n",
            "Port 5000 is in use by another program. Either identify and stop that program, or start the server with a different port.\n"
          ]
        }
      ]
    },
    {
      "source": [
        "import requests\n",
        "\n",
        "# Change the URL to target the /predict endpoint\n",
        "url = \"https://7245-34-60-226-195.ngrok-free.app/predict\"\n",
        "\n",
        "payload = {\n",
        "    \"population_density_sqkm\": 2100,\n",
        "    \"avg_household_income_usd\": 9500,\n",
        "    \"median_age\": 30,\n",
        "    \"literacy_rate_percent\": 89,\n",
        "    \"crime_rate_index\": 15,\n",
        "    \"infrastructure_quality_score\": 75,\n",
        "    \"accessibility_score\": 80,\n",
        "    \"unemployment_rate_percent\": 6.5,\n",
        "    \"local_gdp_per_capita_usd\": 3400,\n",
        "    \"area_type\": \"urban\"\n",
        "}\n",
        "\n",
        "response = requests.post(url, json=payload)\n",
        "print(response.json())"
      ],
      "cell_type": "code",
      "metadata": {
        "colab": {
          "base_uri": "https://localhost:8080/"
        },
        "id": "yyeY60FX7s4H",
        "outputId": "3b2ade2c-f859-41b0-c863-f6f0f2519fed"
      },
      "execution_count": 140,
      "outputs": [
        {
          "output_type": "stream",
          "name": "stdout",
          "text": [
            "{'business_opportunity_score': 85, 'estimated_profit_usd': 12000, 'recommended_business_type': 'Cafe', 'risk_level': 'Medium'}\n"
          ]
        }
      ]
    }
  ]
}